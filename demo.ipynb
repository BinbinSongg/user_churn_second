{
 "cells": [
  {
   "cell_type": "code",
   "execution_count": 13,
   "metadata": {
    "collapsed": true
   },
   "outputs": [
    {
     "name": "stdout",
     "output_type": "stream",
     "text": [
      "1\n"
     ]
    }
   ],
   "source": [
    "# 以下代码的目的在于解决【中文字符】问题\n",
    "import sys\n",
    "stdout = sys.stdout\n",
    "# 新版sys, 需要先reload(sys)再进行sys.setdefaultencoding操作\n",
    "reload(sys)\n",
    "sys.setdefaultencoding('utf-8')\n",
    "sys.stdout = stdout\n",
    "import os\n",
    "os.getcwd()\n",
    "os.chdir('/Users/Max/PycharmProjects/user_churn_second')\n",
    "print '1'"
   ]
  },
  {
   "cell_type": "code",
   "execution_count": 7,
   "metadata": {
    "collapsed": true
   },
   "outputs": [],
   "source": [
    "# 常用module\n",
    "import pandas as pd \n",
    "import numpy as np\n",
    "from imp import reload\n",
    "from sklearn.externals import joblib\n",
    "\n",
    "# machine learning\n",
    "from sklearn.metrics import recall_score\n",
    "def my_custom_scorer(y_true, y_pred):\n",
    "    return recall_score(y_true, y_pred, average='micro')\n",
    "\n",
    "# local\n",
    "import data_extract_X as dx\n",
    "import data_extract_battle as db\n",
    "import data_clean as dc"
   ]
  },
  {
   "cell_type": "markdown",
   "metadata": {},
   "source": [
    "### 案例：提取4月13日新用户为例，验证模型的可靠性"
   ]
  },
  {
   "cell_type": "markdown",
   "metadata": {},
   "source": [
    " 1、提取用户y标签\n",
    " \n",
    " 2、提取用户X标签\n",
    " \n",
    " 3、处理X数据\n",
    " \n",
    " 4、导入模型做预测\n",
    " \n",
    " 5、给出预测用户名单\n",
    "\n",
    "注意：指标为3日留存"
   ]
  },
  {
   "cell_type": "markdown",
   "metadata": {},
   "source": [
    "#### 1、提取y标签"
   ]
  },
  {
   "cell_type": "code",
   "execution_count": 8,
   "metadata": {
    "collapsed": false
   },
   "outputs": [
    {
     "name": "stdout",
     "output_type": "stream",
     "text": [
      "数据库连接完成！\n数据提取中......\n数据提取完成，耗时0.113207101822\n\n"
     ]
    },
    {
     "name": "stdout",
     "output_type": "stream",
     "text": [
      "all userid have downloaded!\n数据库连接完成！\n数据提取中......\n"
     ]
    },
    {
     "name": "stdout",
     "output_type": "stream",
     "text": [
      "数据提取完成，耗时0.312450885773\n\n"
     ]
    }
   ],
   "source": [
    "reload(db)\n",
    "# initialisaiton\n",
    "date_start = '2018-04-13'\n",
    "date_end = '2018-04-13'\n",
    "db_class = db.data_extract_class(date_start, date_end)\n",
    "## operations\n",
    "db_class.download_new_userid()\n",
    "y = db_class.read_battle_y(retained_day=3).drop_duplicates(keep='first')"
   ]
  },
  {
   "cell_type": "code",
   "execution_count": 4,
   "metadata": {
    "collapsed": false
   },
   "outputs": [
    {
     "data": {
      "text/html": [
       "<div>\n",
       "<table border=\"1\" class=\"dataframe\">\n",
       "  <thead>\n",
       "    <tr style=\"text-align: right;\">\n",
       "      <th></th>\n",
       "      <th>full_id</th>\n",
       "      <th>y</th>\n",
       "    </tr>\n",
       "  </thead>\n",
       "  <tbody>\n",
       "    <tr>\n",
       "      <th>0</th>\n",
       "      <td>5ad07d91b31aaa7021bc00e5</td>\n",
       "      <td>0</td>\n",
       "    </tr>\n",
       "    <tr>\n",
       "      <th>1</th>\n",
       "      <td>5acfffc36077d1151e9a6d71</td>\n",
       "      <td>0</td>\n",
       "    </tr>\n",
       "    <tr>\n",
       "      <th>2</th>\n",
       "      <td>5ad0584aecfb9e2e3a182fb3</td>\n",
       "      <td>0</td>\n",
       "    </tr>\n",
       "    <tr>\n",
       "      <th>3</th>\n",
       "      <td>5ad07c835fabdf47f013d94a</td>\n",
       "      <td>0</td>\n",
       "    </tr>\n",
       "    <tr>\n",
       "      <th>4</th>\n",
       "      <td>5ad0d1e2ecfb9e2e3a33d8d0</td>\n",
       "      <td>0</td>\n",
       "    </tr>\n",
       "  </tbody>\n",
       "</table>\n",
       "</div>"
      ],
      "text/plain": [
       "                    full_id  y\n",
       "0  5ad07d91b31aaa7021bc00e5  0\n",
       "1  5acfffc36077d1151e9a6d71  0\n",
       "2  5ad0584aecfb9e2e3a182fb3  0\n",
       "3  5ad07c835fabdf47f013d94a  0\n",
       "4  5ad0d1e2ecfb9e2e3a33d8d0  0"
      ]
     },
     "execution_count": 4,
     "metadata": {},
     "output_type": "execute_result"
    }
   ],
   "source": [
    "y.head() # 提取完成，结果如下 - 1为留存，0为流失"
   ]
  },
  {
   "cell_type": "markdown",
   "metadata": {},
   "source": [
    "#### 2、提取X标签"
   ]
  },
  {
   "cell_type": "code",
   "execution_count": 9,
   "metadata": {
    "collapsed": false
   },
   "outputs": [
    {
     "name": "stdout",
     "output_type": "stream",
     "text": [
      "数据库连接完成！\n数据提取中......\n"
     ]
    },
    {
     "name": "stdout",
     "output_type": "stream",
     "text": [
      "数据提取完成，耗时0.319646120071\n\n"
     ]
    },
    {
     "name": "stdout",
     "output_type": "stream",
     "text": [
      "数据库连接完成！\n数据提取中......\n"
     ]
    },
    {
     "name": "stdout",
     "output_type": "stream",
     "text": [
      "数据提取完成，耗时0.261146068573\n\n"
     ]
    },
    {
     "name": "stdout",
     "output_type": "stream",
     "text": [
      "数据库连接完成！\n数据提取中......\n"
     ]
    },
    {
     "name": "stdout",
     "output_type": "stream",
     "text": [
      "数据提取完成，耗时0.270169019699\n\n"
     ]
    },
    {
     "name": "stdout",
     "output_type": "stream",
     "text": [
      "数据库连接完成！\n数据提取中......\n"
     ]
    },
    {
     "name": "stdout",
     "output_type": "stream",
     "text": [
      "数据提取完成，耗时0.323534965515\n\n"
     ]
    },
    {
     "name": "stdout",
     "output_type": "stream",
     "text": [
      "数据库连接完成！\n数据提取中......\n数据提取完成，耗时0.0855808258057\n\n"
     ]
    },
    {
     "name": "stdout",
     "output_type": "stream",
     "text": [
      "数据库连接完成！\n数据提取中......\n"
     ]
    },
    {
     "name": "stdout",
     "output_type": "stream",
     "text": [
      "数据提取完成，耗时0.309580087662\n\n"
     ]
    },
    {
     "name": "stdout",
     "output_type": "stream",
     "text": [
      "数据库连接完成！\n数据提取中......\n数据提取完成，耗时0.0938329696655\n\n"
     ]
    },
    {
     "name": "stdout",
     "output_type": "stream",
     "text": [
      "数据库连接完成！\n数据提取中......\n数据提取完成，耗时0.0949029922485\n\n"
     ]
    },
    {
     "name": "stdout",
     "output_type": "stream",
     "text": [
      "数据库连接完成！\n数据提取中......\n"
     ]
    },
    {
     "name": "stdout",
     "output_type": "stream",
     "text": [
      "数据提取完成，耗时0.377551078796\n\n"
     ]
    },
    {
     "name": "stdout",
     "output_type": "stream",
     "text": [
      "数据库连接完成！\n数据提取中......\n"
     ]
    },
    {
     "name": "stdout",
     "output_type": "stream",
     "text": [
      "数据提取完成，耗时0.324486017227\n\n"
     ]
    },
    {
     "name": "stdout",
     "output_type": "stream",
     "text": [
      "数据库连接完成！\n数据提取中......\n"
     ]
    },
    {
     "name": "stdout",
     "output_type": "stream",
     "text": [
      "数据提取完成，耗时0.490743875504\n\n"
     ]
    },
    {
     "name": "stdout",
     "output_type": "stream",
     "text": [
      "数据库连接完成！\n数据提取中......\n"
     ]
    },
    {
     "name": "stdout",
     "output_type": "stream",
     "text": [
      "数据提取完成，耗时0.297152042389\n\n"
     ]
    }
   ],
   "source": [
    "reload(dx)\n",
    "date_start = '2018-04-13'\n",
    "date_end = '2018-04-13'\n",
    "dx_X = dx.create_new_X(date_start, date_end)\n",
    "result = dx_X.main(date_start)\n",
    "result.to_csv('output/demo_X.csv', encoding='utf-8')"
   ]
  },
  {
   "cell_type": "code",
   "execution_count": 6,
   "metadata": {
    "collapsed": false
   },
   "outputs": [
    {
     "data": {
      "text/html": [
       "<div>\n",
       "<table border=\"1\" class=\"dataframe\">\n",
       "  <thead>\n",
       "    <tr style=\"text-align: right;\">\n",
       "      <th></th>\n",
       "      <th>userid</th>\n",
       "      <th>os</th>\n",
       "      <th>city</th>\n",
       "      <th>gender</th>\n",
       "      <th>status</th>\n",
       "      <th>completed_info</th>\n",
       "      <th>SignIn</th>\n",
       "      <th>date</th>\n",
       "      <th>weekend</th>\n",
       "      <th>fromchannel</th>\n",
       "      <th>...</th>\n",
       "      <th>share</th>\n",
       "      <th>favorite</th>\n",
       "      <th>read</th>\n",
       "      <th>actions</th>\n",
       "      <th>path1</th>\n",
       "      <th>path2</th>\n",
       "      <th>path3</th>\n",
       "      <th>path4</th>\n",
       "      <th>path5</th>\n",
       "      <th>path6</th>\n",
       "    </tr>\n",
       "  </thead>\n",
       "  <tbody>\n",
       "    <tr>\n",
       "      <th>0</th>\n",
       "      <td>5ad07d91b31aaa7021bc00e5</td>\n",
       "      <td>Android</td>\n",
       "      <td>长春</td>\n",
       "      <td>female</td>\n",
       "      <td>worker</td>\n",
       "      <td>0</td>\n",
       "      <td>1.0</td>\n",
       "      <td>2018-04-13</td>\n",
       "      <td>0</td>\n",
       "      <td>Oppo</td>\n",
       "      <td>...</td>\n",
       "      <td>0.0</td>\n",
       "      <td>0.0</td>\n",
       "      <td>13.0</td>\n",
       "      <td>文章详情页文章详情页文章详情页文章详情页文章详情页文章详情页文章详情页文章详情页买手主页文章...</td>\n",
       "      <td>0.0</td>\n",
       "      <td>0.0</td>\n",
       "      <td>0.0</td>\n",
       "      <td>0.0</td>\n",
       "      <td>0.0</td>\n",
       "      <td>0.0</td>\n",
       "    </tr>\n",
       "    <tr>\n",
       "      <th>1</th>\n",
       "      <td>5acfffc36077d1151e9a6d71</td>\n",
       "      <td>None</td>\n",
       "      <td>None</td>\n",
       "      <td>male</td>\n",
       "      <td>worker</td>\n",
       "      <td>0</td>\n",
       "      <td>0.0</td>\n",
       "      <td>2018-04-13</td>\n",
       "      <td>0</td>\n",
       "      <td>None</td>\n",
       "      <td>...</td>\n",
       "      <td>0.0</td>\n",
       "      <td>0.0</td>\n",
       "      <td>21.0</td>\n",
       "      <td>首页文章详情页首页文章详情页首页文章详情页首页文章详情页首页文章详情页首页文章详情页首页文章...</td>\n",
       "      <td>0.0</td>\n",
       "      <td>0.0</td>\n",
       "      <td>0.0</td>\n",
       "      <td>0.0</td>\n",
       "      <td>0.0</td>\n",
       "      <td>0.0</td>\n",
       "    </tr>\n",
       "    <tr>\n",
       "      <th>2</th>\n",
       "      <td>5ad0584aecfb9e2e3a182fb3</td>\n",
       "      <td>iOS</td>\n",
       "      <td>西安</td>\n",
       "      <td>female</td>\n",
       "      <td>worker</td>\n",
       "      <td>0</td>\n",
       "      <td>0.0</td>\n",
       "      <td>2018-04-13</td>\n",
       "      <td>0</td>\n",
       "      <td>None</td>\n",
       "      <td>...</td>\n",
       "      <td>0.0</td>\n",
       "      <td>0.0</td>\n",
       "      <td>0.0</td>\n",
       "      <td>首页首页发现买手发现买手首页</td>\n",
       "      <td>0.0</td>\n",
       "      <td>0.0</td>\n",
       "      <td>0.0</td>\n",
       "      <td>0.0</td>\n",
       "      <td>0.0</td>\n",
       "      <td>0.0</td>\n",
       "    </tr>\n",
       "    <tr>\n",
       "      <th>3</th>\n",
       "      <td>5ad07c835fabdf47f013d94a</td>\n",
       "      <td>None</td>\n",
       "      <td>None</td>\n",
       "      <td>male</td>\n",
       "      <td>worker</td>\n",
       "      <td>0</td>\n",
       "      <td>0.0</td>\n",
       "      <td>2018-04-13</td>\n",
       "      <td>0</td>\n",
       "      <td>None</td>\n",
       "      <td>...</td>\n",
       "      <td>0.0</td>\n",
       "      <td>0.0</td>\n",
       "      <td>3.0</td>\n",
       "      <td>首页文章详情页文章详情页首页发现买手发现买手买手主页文章详情页买手主页文章详情页买手主页文章...</td>\n",
       "      <td>0.0</td>\n",
       "      <td>0.0</td>\n",
       "      <td>0.0</td>\n",
       "      <td>0.0</td>\n",
       "      <td>0.0</td>\n",
       "      <td>0.0</td>\n",
       "    </tr>\n",
       "    <tr>\n",
       "      <th>4</th>\n",
       "      <td>5ad0d1e2ecfb9e2e3a33d8d0</td>\n",
       "      <td>None</td>\n",
       "      <td>None</td>\n",
       "      <td>female</td>\n",
       "      <td>worker</td>\n",
       "      <td>0</td>\n",
       "      <td>0.0</td>\n",
       "      <td>2018-04-13</td>\n",
       "      <td>0</td>\n",
       "      <td>None</td>\n",
       "      <td>...</td>\n",
       "      <td>0.0</td>\n",
       "      <td>0.0</td>\n",
       "      <td>0.0</td>\n",
       "      <td>首页发现买手发现买手发现买手发现买手</td>\n",
       "      <td>0.0</td>\n",
       "      <td>0.0</td>\n",
       "      <td>0.0</td>\n",
       "      <td>0.0</td>\n",
       "      <td>0.0</td>\n",
       "      <td>0.0</td>\n",
       "    </tr>\n",
       "  </tbody>\n",
       "</table>\n",
       "<p>5 rows × 27 columns</p>\n",
       "</div>"
      ],
      "text/plain": [
       "                     userid       os  city  gender  status  completed_info  \\\n",
       "0  5ad07d91b31aaa7021bc00e5  Android    长春  female  worker               0   \n",
       "1  5acfffc36077d1151e9a6d71     None  None    male  worker               0   \n",
       "2  5ad0584aecfb9e2e3a182fb3      iOS    西安  female  worker               0   \n",
       "3  5ad07c835fabdf47f013d94a     None  None    male  worker               0   \n",
       "4  5ad0d1e2ecfb9e2e3a33d8d0     None  None  female  worker               0   \n",
       "\n",
       "   SignIn        date  weekend fromchannel  ...    share  favorite  read  \\\n",
       "0     1.0  2018-04-13        0        Oppo  ...      0.0       0.0  13.0   \n",
       "1     0.0  2018-04-13        0        None  ...      0.0       0.0  21.0   \n",
       "2     0.0  2018-04-13        0        None  ...      0.0       0.0   0.0   \n",
       "3     0.0  2018-04-13        0        None  ...      0.0       0.0   3.0   \n",
       "4     0.0  2018-04-13        0        None  ...      0.0       0.0   0.0   \n",
       "\n",
       "                                             actions  path1  path2  path3  \\\n",
       "0  文章详情页文章详情页文章详情页文章详情页文章详情页文章详情页文章详情页文章详情页买手主页文章...    0.0    0.0    0.0   \n",
       "1  首页文章详情页首页文章详情页首页文章详情页首页文章详情页首页文章详情页首页文章详情页首页文章...    0.0    0.0    0.0   \n",
       "2                                     首页首页发现买手发现买手首页    0.0    0.0    0.0   \n",
       "3  首页文章详情页文章详情页首页发现买手发现买手买手主页文章详情页买手主页文章详情页买手主页文章...    0.0    0.0    0.0   \n",
       "4                                 首页发现买手发现买手发现买手发现买手    0.0    0.0    0.0   \n",
       "\n",
       "   path4  path5  path6  \n",
       "0    0.0    0.0    0.0  \n",
       "1    0.0    0.0    0.0  \n",
       "2    0.0    0.0    0.0  \n",
       "3    0.0    0.0    0.0  \n",
       "4    0.0    0.0    0.0  \n",
       "\n",
       "[5 rows x 27 columns]"
      ]
     },
     "execution_count": 6,
     "metadata": {},
     "output_type": "execute_result"
    }
   ],
   "source": [
    "# 结果如下\n",
    "result.head()"
   ]
  },
  {
   "cell_type": "markdown",
   "metadata": {},
   "source": [
    "#### 3、预处理X"
   ]
  },
  {
   "cell_type": "code",
   "execution_count": 10,
   "metadata": {
    "collapsed": false
   },
   "outputs": [],
   "source": [
    "reload(dc)\n",
    "# And now to load scaler\n",
    "X = result.copy().drop(['date', 'actions', 'path3', 'path4', 'path5', 'path6'], axis=1)\n",
    "def preprocessing_df(X, y):\n",
    "    \n",
    "    X_y = pd.merge(X, y, left_on='userid', right_on='full_id', how='left')\n",
    "    dc_dc = dc.data_clean()\n",
    "    X_y = dc_dc.quick_correct(X_y)\n",
    "\n",
    "    # 异常值处理\n",
    "    # kick outlier out\n",
    "    # 1. outlier \n",
    "    X_y = dc_dc.outlier_deal(X_y)\n",
    "\n",
    "    # 得到 dummies 变量\n",
    "    y_fea = X_y.loc[:, 'y']\n",
    "    X_fea = pd.get_dummies(X_y.drop(['y', 'userid', 'full_id'], axis=1))\n",
    "\n",
    "    # scale  \n",
    "    # 归一化\n",
    "    model_columns = np.loadtxt('output/model_columns', dtype='S')\n",
    "    scaler = joblib.load('output/scaler.save') \n",
    "    X_train_scaler = scaler.transform(X_fea[model_columns])    \n",
    "    return X_train_scaler, y_fea\n",
    "X_train_scaler, y_fea = preprocessing_df(X, y)"
   ]
  },
  {
   "cell_type": "code",
   "execution_count": 11,
   "metadata": {
    "collapsed": false
   },
   "outputs": [
    {
     "data": {
      "text/plain": [
       "0.78727841501564133"
      ]
     },
     "execution_count": 11,
     "metadata": {},
     "output_type": "execute_result"
    }
   ],
   "source": [
    "# 恢复模型并做预测\n",
    "# set score function\n",
    "recoverd_model = joblib.load(\"output/train_model.m\")\n",
    "recoverd_model.score(X_train_scaler, y_fea)"
   ]
  },
  {
   "cell_type": "code",
   "execution_count": 12,
   "metadata": {
    "collapsed": false
   },
   "outputs": [
    {
     "data": {
      "text/plain": [
       "array([0, 0, 0, ..., 0, 0, 0])"
      ]
     },
     "execution_count": 12,
     "metadata": {},
     "output_type": "execute_result"
    }
   ],
   "source": [
    "# 预测\n",
    "recoverd_model.predict(X_train_scaler)"
   ]
  }
 ],
 "metadata": {
  "kernelspec": {
   "display_name": "Python 2",
   "language": "python",
   "name": "python2"
  },
  "language_info": {
   "codemirror_mode": {
    "name": "ipython",
    "version": 2
   },
   "file_extension": ".py",
   "mimetype": "text/x-python",
   "name": "python",
   "nbconvert_exporter": "python",
   "pygments_lexer": "ipython2",
   "version": "2.7.13"
  }
 },
 "nbformat": 4,
 "nbformat_minor": 2
}
