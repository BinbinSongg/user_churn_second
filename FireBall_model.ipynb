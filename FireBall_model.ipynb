{
 "cells": [
  {
   "cell_type": "code",
   "execution_count": 1,
   "metadata": {
    "collapsed": false
   },
   "outputs": [],
   "source": [
    "import os \n",
    "# 设置工作目录\n",
    "path = os.path.dirname(os.path.abspath('FireBall_model.ipython'))\n",
    "os.chdir(path)"
   ]
  },
  {
   "cell_type": "code",
   "execution_count": 2,
   "metadata": {
    "collapsed": true
   },
   "outputs": [],
   "source": [
    "\n",
    "# import basic \n",
    "import numpy as np\n",
    "from imp import reload\n",
    "import pandas as pd \n",
    "\n",
    "\n",
    "# machine learning \n",
    "from sklearn.model_selection import train_test_split\n",
    "from sklearn.model_selection import GridSearchCV\n",
    "from sklearn.metrics import classification_report\n",
    "from sklearn.preprocessing import MinMaxScaler\n",
    "from sklearn.ensemble import RandomForestClassifier\n",
    "from sklearn.metrics import accuracy_score\n",
    "from sklearn.metrics import f1_score\n",
    "from sklearn.metrics import make_scorer\n",
    "from sklearn.metrics import recall_score\n",
    "\n",
    "# visual\n",
    "import seaborn as sns\n",
    "import matplotlib.pyplot as plt\n",
    "% matplotlib inline\n",
    "\n",
    "# import third-party\n",
    "import pandas as pd \n",
    "from sklearn.externals import joblib\n",
    "\n",
    "# visual\n",
    "import matplotlib.pyplot as plt\n",
    "%matplotlib inline\n",
    "\n",
    "# import local file\n",
    "import data_clean as dc \n",
    "def my_custom_scorer(y_true, y_pred):\n",
    "    return recall_score(y_true, y_pred, average='micro')"
   ]
  },
  {
   "cell_type": "code",
   "execution_count": null,
   "metadata": {
    "collapsed": true
   },
   "outputs": [],
   "source": [
    "# 04 - 19\n",
    "# problems: \n",
    "# 1、重新提取数据窗口时间\n",
    "    # solutions - 原则是尽量选择不涉及重大活动的时间段\n",
    "# 2、模型存在过拟合问题\n",
    "#   # solutions - 调参"
   ]
  },
  {
   "cell_type": "markdown",
   "metadata": {},
   "source": [
    "## 工作流程\n",
    "\n",
    "1、读取已有的X， y数据集\n",
    "\n",
    "2、数据预处理\n",
    "\n",
    "    2.1 剔除X中数字变量的异常值\n",
    "    2.2 剔除X中分类变量的异常值\n",
    "      \n",
    "3、特征工程\n",
    "\n",
    "4、训练模型\n",
    "\n",
    "5、保存模型"
   ]
  },
  {
   "cell_type": "markdown",
   "metadata": {},
   "source": [
    "### 1、读取特征值"
   ]
  },
  {
   "cell_type": "code",
   "execution_count": 3,
   "metadata": {
    "collapsed": false
   },
   "outputs": [],
   "source": [
    "# input\n",
    "# files: \"output/extract_result.csv\", \"output/new_3days_y_2018-03-24.csv\"\n",
    "X = pd.read_csv(\"output/extract_result.csv\", index_col=0).drop(['actions'], axis=1).drop_duplicates('userid', keep='first')\n",
    "y = pd.read_csv(\"output/new_3days_y_2018-03-24.csv\", index_col=0).drop_duplicates('full_id', keep='first')\n",
    "\n",
    "# output \n",
    "# X, y"
   ]
  },
  {
   "cell_type": "markdown",
   "metadata": {},
   "source": [
    "### 2、数据预处理部分"
   ]
  },
  {
   "cell_type": "markdown",
   "metadata": {},
   "source": [
    "#### 2.1 剔除X中数字变量的异常值"
   ]
  },
  {
   "cell_type": "code",
   "execution_count": 4,
   "metadata": {
    "collapsed": false
   },
   "outputs": [],
   "source": [
    "# 问题列\n",
    "# 目的：删除明显不合理的数据\n",
    "# 结果：各列存在问题，及处理措施，如下\n",
    "\n",
    "# 1、SignIn \n",
    "#    取值为 0 或 1，但是取值为2的显然不合理\n",
    "#    next - 剔除这部分数据\n",
    "# 2、unsub\n",
    "#    取值达到173，明显不合理\n",
    "#    next - 剔除末端0.1%的用户\n",
    "# 3、sub\n",
    "#    同上\n",
    "#    next - 剔除末端0.1%的用户\n",
    "# 4、purchase \n",
    "#    同上\n",
    "#    next - 剔除末端0.1%的用户\n",
    "# 5、share\n",
    "#    同上\n",
    "#    next - 剔除末端0.1%的用户\n",
    "# 6、favorite\n",
    "#    同上 \n",
    "#    next - 剔除末端0.1%的用户\n",
    "# 7、read\n",
    "#    同上 \n",
    "#    next - 剔除末端1%的用户\n",
    "# 8、path3, path4, path5, path6\n",
    "#   以上路径max值也为0\n",
    "#    next - 直接剔除\n",
    "# 9、pathX 与 其他变量非缺失值数量不同\n",
    "#    next - 是由于抽取规则导致的 - 对于缺失值统一填补上0即可\n",
    "# 10、default_buyer\n",
    "# default_buyer为正常的缺失，因为已经筛选掉部分老用户，另外有超过12的默认\n",
    "#    next - 所以只需补上缺失即可 - 提取众数补上\n",
    "#         - 超过12的默认修改为12（不一定正确，最好看下confluence上默认关注名单数）\n",
    "\n",
    "# 注意：具体临界值设置在哪里，最好与业务或BI这边对一遍，按照他们的感觉，划分一个临界\n",
    "# 如果结果不太理想，可以尝试用聚类 或者 高斯分布剔除异常值\n",
    "\n",
    "# 导入本地数据清洗库\n",
    "import data_clean as dc\n",
    "dc_dc = dc.data_clean()\n",
    "\n",
    "# 执行异常值剔除工作\n",
    "# X - numeric 变量\n",
    "reload(dc)\n",
    "columns_filterd_one = ['SignIn', 'unsub', 'sub', 'purchase', 'share', 'favorite']\n",
    "columns_filterd_second = ['read']\n",
    "X = dc_dc.X_numberic_outlier(X, columns_filterd_one, .999, columns_filtered_second = columns_filterd_second, \\\n",
    "                       critical_percent_second = .99, case_one=True)"
   ]
  },
  {
   "cell_type": "code",
   "execution_count": 5,
   "metadata": {
    "collapsed": false
   },
   "outputs": [
    {
     "data": {
      "text/html": [
       "<div>\n",
       "<table border=\"1\" class=\"dataframe\">\n",
       "  <thead>\n",
       "    <tr style=\"text-align: right;\">\n",
       "      <th></th>\n",
       "      <th>completed_info</th>\n",
       "      <th>SignIn</th>\n",
       "      <th>weekend</th>\n",
       "      <th>coin</th>\n",
       "      <th>lucky_money</th>\n",
       "      <th>unsub</th>\n",
       "      <th>sub</th>\n",
       "      <th>default_buyer</th>\n",
       "      <th>today_read</th>\n",
       "      <th>purchase</th>\n",
       "      <th>share</th>\n",
       "      <th>favorite</th>\n",
       "      <th>read</th>\n",
       "      <th>path1</th>\n",
       "      <th>path2</th>\n",
       "    </tr>\n",
       "  </thead>\n",
       "  <tbody>\n",
       "    <tr>\n",
       "      <th>count</th>\n",
       "      <td>66861.000000</td>\n",
       "      <td>66861.000000</td>\n",
       "      <td>66861.000000</td>\n",
       "      <td>66861.000000</td>\n",
       "      <td>66861.000000</td>\n",
       "      <td>66861.000000</td>\n",
       "      <td>66861.000000</td>\n",
       "      <td>66861.000000</td>\n",
       "      <td>66861.000000</td>\n",
       "      <td>66861.000000</td>\n",
       "      <td>66861.000000</td>\n",
       "      <td>66861.000000</td>\n",
       "      <td>66861.000000</td>\n",
       "      <td>66861.000000</td>\n",
       "      <td>66861.000000</td>\n",
       "    </tr>\n",
       "    <tr>\n",
       "      <th>mean</th>\n",
       "      <td>0.018606</td>\n",
       "      <td>0.295329</td>\n",
       "      <td>0.329594</td>\n",
       "      <td>0.064298</td>\n",
       "      <td>0.066855</td>\n",
       "      <td>0.258387</td>\n",
       "      <td>0.556049</td>\n",
       "      <td>12.742331</td>\n",
       "      <td>5.371861</td>\n",
       "      <td>0.162771</td>\n",
       "      <td>0.160781</td>\n",
       "      <td>1.479592</td>\n",
       "      <td>12.802067</td>\n",
       "      <td>3.082963</td>\n",
       "      <td>0.039754</td>\n",
       "    </tr>\n",
       "    <tr>\n",
       "      <th>std</th>\n",
       "      <td>0.135129</td>\n",
       "      <td>0.456194</td>\n",
       "      <td>0.470069</td>\n",
       "      <td>0.245284</td>\n",
       "      <td>0.249773</td>\n",
       "      <td>1.467588</td>\n",
       "      <td>2.403866</td>\n",
       "      <td>1.455466</td>\n",
       "      <td>5.310524</td>\n",
       "      <td>0.479018</td>\n",
       "      <td>0.740273</td>\n",
       "      <td>4.314248</td>\n",
       "      <td>19.895511</td>\n",
       "      <td>7.962893</td>\n",
       "      <td>0.229200</td>\n",
       "    </tr>\n",
       "    <tr>\n",
       "      <th>min</th>\n",
       "      <td>0.000000</td>\n",
       "      <td>0.000000</td>\n",
       "      <td>0.000000</td>\n",
       "      <td>0.000000</td>\n",
       "      <td>0.000000</td>\n",
       "      <td>0.000000</td>\n",
       "      <td>0.000000</td>\n",
       "      <td>1.000000</td>\n",
       "      <td>0.000000</td>\n",
       "      <td>0.000000</td>\n",
       "      <td>0.000000</td>\n",
       "      <td>0.000000</td>\n",
       "      <td>0.000000</td>\n",
       "      <td>0.000000</td>\n",
       "      <td>0.000000</td>\n",
       "    </tr>\n",
       "    <tr>\n",
       "      <th>25%</th>\n",
       "      <td>0.000000</td>\n",
       "      <td>0.000000</td>\n",
       "      <td>0.000000</td>\n",
       "      <td>0.000000</td>\n",
       "      <td>0.000000</td>\n",
       "      <td>0.000000</td>\n",
       "      <td>0.000000</td>\n",
       "      <td>12.000000</td>\n",
       "      <td>0.000000</td>\n",
       "      <td>0.000000</td>\n",
       "      <td>0.000000</td>\n",
       "      <td>0.000000</td>\n",
       "      <td>1.000000</td>\n",
       "      <td>0.000000</td>\n",
       "      <td>0.000000</td>\n",
       "    </tr>\n",
       "    <tr>\n",
       "      <th>50%</th>\n",
       "      <td>0.000000</td>\n",
       "      <td>0.000000</td>\n",
       "      <td>0.000000</td>\n",
       "      <td>0.000000</td>\n",
       "      <td>0.000000</td>\n",
       "      <td>0.000000</td>\n",
       "      <td>0.000000</td>\n",
       "      <td>12.000000</td>\n",
       "      <td>3.000000</td>\n",
       "      <td>0.000000</td>\n",
       "      <td>0.000000</td>\n",
       "      <td>0.000000</td>\n",
       "      <td>4.000000</td>\n",
       "      <td>0.000000</td>\n",
       "      <td>0.000000</td>\n",
       "    </tr>\n",
       "    <tr>\n",
       "      <th>75%</th>\n",
       "      <td>0.000000</td>\n",
       "      <td>1.000000</td>\n",
       "      <td>1.000000</td>\n",
       "      <td>0.000000</td>\n",
       "      <td>0.000000</td>\n",
       "      <td>0.000000</td>\n",
       "      <td>0.000000</td>\n",
       "      <td>14.000000</td>\n",
       "      <td>11.000000</td>\n",
       "      <td>0.000000</td>\n",
       "      <td>0.000000</td>\n",
       "      <td>1.000000</td>\n",
       "      <td>16.000000</td>\n",
       "      <td>2.000000</td>\n",
       "      <td>0.000000</td>\n",
       "    </tr>\n",
       "    <tr>\n",
       "      <th>max</th>\n",
       "      <td>1.000000</td>\n",
       "      <td>1.000000</td>\n",
       "      <td>1.000000</td>\n",
       "      <td>1.000000</td>\n",
       "      <td>1.000000</td>\n",
       "      <td>15.000000</td>\n",
       "      <td>55.000000</td>\n",
       "      <td>16.000000</td>\n",
       "      <td>15.000000</td>\n",
       "      <td>6.000000</td>\n",
       "      <td>13.000000</td>\n",
       "      <td>67.000000</td>\n",
       "      <td>126.000000</td>\n",
       "      <td>143.000000</td>\n",
       "      <td>6.000000</td>\n",
       "    </tr>\n",
       "  </tbody>\n",
       "</table>\n",
       "</div>"
      ],
      "text/plain": [
       "       completed_info        SignIn       weekend          coin   lucky_money  \\\n",
       "count    66861.000000  66861.000000  66861.000000  66861.000000  66861.000000   \n",
       "mean         0.018606      0.295329      0.329594      0.064298      0.066855   \n",
       "std          0.135129      0.456194      0.470069      0.245284      0.249773   \n",
       "min          0.000000      0.000000      0.000000      0.000000      0.000000   \n",
       "25%          0.000000      0.000000      0.000000      0.000000      0.000000   \n",
       "50%          0.000000      0.000000      0.000000      0.000000      0.000000   \n",
       "75%          0.000000      1.000000      1.000000      0.000000      0.000000   \n",
       "max          1.000000      1.000000      1.000000      1.000000      1.000000   \n",
       "\n",
       "              unsub           sub  default_buyer    today_read      purchase  \\\n",
       "count  66861.000000  66861.000000   66861.000000  66861.000000  66861.000000   \n",
       "mean       0.258387      0.556049      12.742331      5.371861      0.162771   \n",
       "std        1.467588      2.403866       1.455466      5.310524      0.479018   \n",
       "min        0.000000      0.000000       1.000000      0.000000      0.000000   \n",
       "25%        0.000000      0.000000      12.000000      0.000000      0.000000   \n",
       "50%        0.000000      0.000000      12.000000      3.000000      0.000000   \n",
       "75%        0.000000      0.000000      14.000000     11.000000      0.000000   \n",
       "max       15.000000     55.000000      16.000000     15.000000      6.000000   \n",
       "\n",
       "              share      favorite          read         path1         path2  \n",
       "count  66861.000000  66861.000000  66861.000000  66861.000000  66861.000000  \n",
       "mean       0.160781      1.479592     12.802067      3.082963      0.039754  \n",
       "std        0.740273      4.314248     19.895511      7.962893      0.229200  \n",
       "min        0.000000      0.000000      0.000000      0.000000      0.000000  \n",
       "25%        0.000000      0.000000      1.000000      0.000000      0.000000  \n",
       "50%        0.000000      0.000000      4.000000      0.000000      0.000000  \n",
       "75%        0.000000      1.000000     16.000000      2.000000      0.000000  \n",
       "max       13.000000     67.000000    126.000000    143.000000      6.000000  "
      ]
     },
     "execution_count": 5,
     "metadata": {},
     "output_type": "execute_result"
    }
   ],
   "source": [
    "# 检验处理后结果\n",
    "X.describe()"
   ]
  },
  {
   "cell_type": "markdown",
   "metadata": {},
   "source": [
    "#### 2.2 X分类变量处理"
   ]
  },
  {
   "cell_type": "code",
   "execution_count": 6,
   "metadata": {
    "collapsed": false
   },
   "outputs": [
    {
     "name": "stderr",
     "output_type": "stream",
     "text": [
      "/usr/local/lib/python2.7/site-packages/pandas/core/indexing.py:477: SettingWithCopyWarning: \n",
      "A value is trying to be set on a copy of a slice from a DataFrame.\n",
      "Try using .loc[row_indexer,col_indexer] = value instead\n",
      "\n",
      "See the caveats in the documentation: http://pandas.pydata.org/pandas-docs/stable/indexing.html#indexing-view-versus-copy\n",
      "  self.obj[item] = s\n"
     ]
    }
   ],
   "source": [
    "reload(dc)\n",
    "dc_dc = dc.data_clean()\n",
    "X_train, X_test, y_train, y_test = dc_dc.X_object_preprocessing(X,y)"
   ]
  },
  {
   "cell_type": "code",
   "execution_count": 7,
   "metadata": {
    "collapsed": false
   },
   "outputs": [
    {
     "data": {
      "text/html": [
       "<div>\n",
       "<table border=\"1\" class=\"dataframe\">\n",
       "  <thead>\n",
       "    <tr style=\"text-align: right;\">\n",
       "      <th></th>\n",
       "      <th>userid</th>\n",
       "      <th>os</th>\n",
       "      <th>city</th>\n",
       "      <th>gender</th>\n",
       "      <th>status</th>\n",
       "      <th>date</th>\n",
       "      <th>fromchannel</th>\n",
       "    </tr>\n",
       "  </thead>\n",
       "  <tbody>\n",
       "    <tr>\n",
       "      <th>count</th>\n",
       "      <td>46800</td>\n",
       "      <td>46800</td>\n",
       "      <td>46800</td>\n",
       "      <td>46800</td>\n",
       "      <td>46800</td>\n",
       "      <td>46800</td>\n",
       "      <td>46800</td>\n",
       "    </tr>\n",
       "    <tr>\n",
       "      <th>unique</th>\n",
       "      <td>46800</td>\n",
       "      <td>2</td>\n",
       "      <td>3</td>\n",
       "      <td>2</td>\n",
       "      <td>2</td>\n",
       "      <td>29</td>\n",
       "      <td>4</td>\n",
       "    </tr>\n",
       "    <tr>\n",
       "      <th>top</th>\n",
       "      <td>5aafab48cf00aa49790c7933</td>\n",
       "      <td>iOS</td>\n",
       "      <td>first</td>\n",
       "      <td>female</td>\n",
       "      <td>worker</td>\n",
       "      <td>2018-03-17</td>\n",
       "      <td>iOS_plat</td>\n",
       "    </tr>\n",
       "    <tr>\n",
       "      <th>freq</th>\n",
       "      <td>1</td>\n",
       "      <td>23799</td>\n",
       "      <td>21315</td>\n",
       "      <td>30260</td>\n",
       "      <td>23921</td>\n",
       "      <td>3626</td>\n",
       "      <td>23084</td>\n",
       "    </tr>\n",
       "  </tbody>\n",
       "</table>\n",
       "</div>"
      ],
      "text/plain": [
       "                          userid     os   city  gender  status        date  \\\n",
       "count                      46800  46800  46800   46800   46800       46800   \n",
       "unique                     46800      2      3       2       2          29   \n",
       "top     5aafab48cf00aa49790c7933    iOS  first  female  worker  2018-03-17   \n",
       "freq                           1  23799  21315   30260   23921        3626   \n",
       "\n",
       "       fromchannel  \n",
       "count        46800  \n",
       "unique           4  \n",
       "top       iOS_plat  \n",
       "freq         23084  "
      ]
     },
     "execution_count": 7,
     "metadata": {},
     "output_type": "execute_result"
    }
   ],
   "source": [
    "# 检验剔除效果(categorical variabels) - ok\n",
    "X_test.describe(include=['O'])\n",
    "X_train.describe(include=['O'])"
   ]
  },
  {
   "cell_type": "markdown",
   "metadata": {},
   "source": [
    "### 3、特征工程"
   ]
  },
  {
   "cell_type": "markdown",
   "metadata": {},
   "source": [
    "- 1、共线性筛查（>0.6剔除）\n",
    "\n",
    "- 2、chi-test statistics 计算自变量重要性\n",
    "\n",
    "- 3、决策树模型筛选"
   ]
  },
  {
   "cell_type": "markdown",
   "metadata": {},
   "source": [
    "#### 1、共线性筛查"
   ]
  },
  {
   "cell_type": "code",
   "execution_count": 8,
   "metadata": {
    "collapsed": false
   },
   "outputs": [
    {
     "data": {
      "text/html": [
       "<div>\n",
       "<table border=\"1\" class=\"dataframe\">\n",
       "  <thead>\n",
       "    <tr style=\"text-align: right;\">\n",
       "      <th></th>\n",
       "      <th>completed_info</th>\n",
       "      <th>SignIn</th>\n",
       "      <th>weekend</th>\n",
       "      <th>coin</th>\n",
       "      <th>lucky_money</th>\n",
       "      <th>unsub</th>\n",
       "      <th>sub</th>\n",
       "      <th>default_buyer</th>\n",
       "      <th>today_read</th>\n",
       "      <th>purchase</th>\n",
       "      <th>share</th>\n",
       "      <th>read</th>\n",
       "      <th>path1</th>\n",
       "      <th>path2</th>\n",
       "    </tr>\n",
       "  </thead>\n",
       "  <tbody>\n",
       "    <tr>\n",
       "      <th>completed_info</th>\n",
       "      <td>True</td>\n",
       "      <td>False</td>\n",
       "      <td>False</td>\n",
       "      <td>False</td>\n",
       "      <td>False</td>\n",
       "      <td>False</td>\n",
       "      <td>False</td>\n",
       "      <td>False</td>\n",
       "      <td>False</td>\n",
       "      <td>False</td>\n",
       "      <td>False</td>\n",
       "      <td>False</td>\n",
       "      <td>False</td>\n",
       "      <td>False</td>\n",
       "    </tr>\n",
       "    <tr>\n",
       "      <th>SignIn</th>\n",
       "      <td>False</td>\n",
       "      <td>True</td>\n",
       "      <td>False</td>\n",
       "      <td>False</td>\n",
       "      <td>False</td>\n",
       "      <td>False</td>\n",
       "      <td>False</td>\n",
       "      <td>False</td>\n",
       "      <td>False</td>\n",
       "      <td>False</td>\n",
       "      <td>False</td>\n",
       "      <td>False</td>\n",
       "      <td>False</td>\n",
       "      <td>False</td>\n",
       "    </tr>\n",
       "    <tr>\n",
       "      <th>weekend</th>\n",
       "      <td>False</td>\n",
       "      <td>False</td>\n",
       "      <td>True</td>\n",
       "      <td>False</td>\n",
       "      <td>False</td>\n",
       "      <td>False</td>\n",
       "      <td>False</td>\n",
       "      <td>False</td>\n",
       "      <td>False</td>\n",
       "      <td>False</td>\n",
       "      <td>False</td>\n",
       "      <td>False</td>\n",
       "      <td>False</td>\n",
       "      <td>False</td>\n",
       "    </tr>\n",
       "    <tr>\n",
       "      <th>coin</th>\n",
       "      <td>False</td>\n",
       "      <td>False</td>\n",
       "      <td>False</td>\n",
       "      <td>True</td>\n",
       "      <td>False</td>\n",
       "      <td>False</td>\n",
       "      <td>False</td>\n",
       "      <td>False</td>\n",
       "      <td>False</td>\n",
       "      <td>False</td>\n",
       "      <td>False</td>\n",
       "      <td>False</td>\n",
       "      <td>False</td>\n",
       "      <td>False</td>\n",
       "    </tr>\n",
       "    <tr>\n",
       "      <th>lucky_money</th>\n",
       "      <td>False</td>\n",
       "      <td>False</td>\n",
       "      <td>False</td>\n",
       "      <td>False</td>\n",
       "      <td>True</td>\n",
       "      <td>False</td>\n",
       "      <td>False</td>\n",
       "      <td>False</td>\n",
       "      <td>False</td>\n",
       "      <td>False</td>\n",
       "      <td>False</td>\n",
       "      <td>False</td>\n",
       "      <td>False</td>\n",
       "      <td>False</td>\n",
       "    </tr>\n",
       "    <tr>\n",
       "      <th>unsub</th>\n",
       "      <td>False</td>\n",
       "      <td>False</td>\n",
       "      <td>False</td>\n",
       "      <td>False</td>\n",
       "      <td>False</td>\n",
       "      <td>True</td>\n",
       "      <td>False</td>\n",
       "      <td>False</td>\n",
       "      <td>False</td>\n",
       "      <td>False</td>\n",
       "      <td>False</td>\n",
       "      <td>False</td>\n",
       "      <td>False</td>\n",
       "      <td>False</td>\n",
       "    </tr>\n",
       "    <tr>\n",
       "      <th>sub</th>\n",
       "      <td>False</td>\n",
       "      <td>False</td>\n",
       "      <td>False</td>\n",
       "      <td>False</td>\n",
       "      <td>False</td>\n",
       "      <td>False</td>\n",
       "      <td>True</td>\n",
       "      <td>False</td>\n",
       "      <td>False</td>\n",
       "      <td>False</td>\n",
       "      <td>False</td>\n",
       "      <td>False</td>\n",
       "      <td>False</td>\n",
       "      <td>False</td>\n",
       "    </tr>\n",
       "    <tr>\n",
       "      <th>default_buyer</th>\n",
       "      <td>False</td>\n",
       "      <td>False</td>\n",
       "      <td>False</td>\n",
       "      <td>False</td>\n",
       "      <td>False</td>\n",
       "      <td>False</td>\n",
       "      <td>False</td>\n",
       "      <td>True</td>\n",
       "      <td>False</td>\n",
       "      <td>False</td>\n",
       "      <td>False</td>\n",
       "      <td>False</td>\n",
       "      <td>False</td>\n",
       "      <td>False</td>\n",
       "    </tr>\n",
       "    <tr>\n",
       "      <th>today_read</th>\n",
       "      <td>False</td>\n",
       "      <td>False</td>\n",
       "      <td>False</td>\n",
       "      <td>False</td>\n",
       "      <td>False</td>\n",
       "      <td>False</td>\n",
       "      <td>False</td>\n",
       "      <td>False</td>\n",
       "      <td>True</td>\n",
       "      <td>False</td>\n",
       "      <td>False</td>\n",
       "      <td>False</td>\n",
       "      <td>False</td>\n",
       "      <td>False</td>\n",
       "    </tr>\n",
       "    <tr>\n",
       "      <th>purchase</th>\n",
       "      <td>False</td>\n",
       "      <td>False</td>\n",
       "      <td>False</td>\n",
       "      <td>False</td>\n",
       "      <td>False</td>\n",
       "      <td>False</td>\n",
       "      <td>False</td>\n",
       "      <td>False</td>\n",
       "      <td>False</td>\n",
       "      <td>True</td>\n",
       "      <td>False</td>\n",
       "      <td>False</td>\n",
       "      <td>False</td>\n",
       "      <td>False</td>\n",
       "    </tr>\n",
       "    <tr>\n",
       "      <th>share</th>\n",
       "      <td>False</td>\n",
       "      <td>False</td>\n",
       "      <td>False</td>\n",
       "      <td>False</td>\n",
       "      <td>False</td>\n",
       "      <td>False</td>\n",
       "      <td>False</td>\n",
       "      <td>False</td>\n",
       "      <td>False</td>\n",
       "      <td>False</td>\n",
       "      <td>True</td>\n",
       "      <td>False</td>\n",
       "      <td>False</td>\n",
       "      <td>False</td>\n",
       "    </tr>\n",
       "    <tr>\n",
       "      <th>read</th>\n",
       "      <td>False</td>\n",
       "      <td>False</td>\n",
       "      <td>False</td>\n",
       "      <td>False</td>\n",
       "      <td>False</td>\n",
       "      <td>False</td>\n",
       "      <td>False</td>\n",
       "      <td>False</td>\n",
       "      <td>False</td>\n",
       "      <td>False</td>\n",
       "      <td>False</td>\n",
       "      <td>True</td>\n",
       "      <td>False</td>\n",
       "      <td>False</td>\n",
       "    </tr>\n",
       "    <tr>\n",
       "      <th>path1</th>\n",
       "      <td>False</td>\n",
       "      <td>False</td>\n",
       "      <td>False</td>\n",
       "      <td>False</td>\n",
       "      <td>False</td>\n",
       "      <td>False</td>\n",
       "      <td>False</td>\n",
       "      <td>False</td>\n",
       "      <td>False</td>\n",
       "      <td>False</td>\n",
       "      <td>False</td>\n",
       "      <td>False</td>\n",
       "      <td>True</td>\n",
       "      <td>False</td>\n",
       "    </tr>\n",
       "    <tr>\n",
       "      <th>path2</th>\n",
       "      <td>False</td>\n",
       "      <td>False</td>\n",
       "      <td>False</td>\n",
       "      <td>False</td>\n",
       "      <td>False</td>\n",
       "      <td>False</td>\n",
       "      <td>False</td>\n",
       "      <td>False</td>\n",
       "      <td>False</td>\n",
       "      <td>False</td>\n",
       "      <td>False</td>\n",
       "      <td>False</td>\n",
       "      <td>False</td>\n",
       "      <td>True</td>\n",
       "    </tr>\n",
       "  </tbody>\n",
       "</table>\n",
       "</div>"
      ],
      "text/plain": [
       "               completed_info SignIn weekend   coin lucky_money  unsub    sub  \\\n",
       "completed_info           True  False   False  False       False  False  False   \n",
       "SignIn                  False   True   False  False       False  False  False   \n",
       "weekend                 False  False    True  False       False  False  False   \n",
       "coin                    False  False   False   True       False  False  False   \n",
       "lucky_money             False  False   False  False        True  False  False   \n",
       "unsub                   False  False   False  False       False   True  False   \n",
       "sub                     False  False   False  False       False  False   True   \n",
       "default_buyer           False  False   False  False       False  False  False   \n",
       "today_read              False  False   False  False       False  False  False   \n",
       "purchase                False  False   False  False       False  False  False   \n",
       "share                   False  False   False  False       False  False  False   \n",
       "read                    False  False   False  False       False  False  False   \n",
       "path1                   False  False   False  False       False  False  False   \n",
       "path2                   False  False   False  False       False  False  False   \n",
       "\n",
       "               default_buyer today_read purchase  share   read  path1  path2  \n",
       "completed_info         False      False    False  False  False  False  False  \n",
       "SignIn                 False      False    False  False  False  False  False  \n",
       "weekend                False      False    False  False  False  False  False  \n",
       "coin                   False      False    False  False  False  False  False  \n",
       "lucky_money            False      False    False  False  False  False  False  \n",
       "unsub                  False      False    False  False  False  False  False  \n",
       "sub                    False      False    False  False  False  False  False  \n",
       "default_buyer           True      False    False  False  False  False  False  \n",
       "today_read             False       True    False  False  False  False  False  \n",
       "purchase               False      False     True  False  False  False  False  \n",
       "share                  False      False    False   True  False  False  False  \n",
       "read                   False      False    False  False   True  False  False  \n",
       "path1                  False      False    False  False  False   True  False  \n",
       "path2                  False      False    False  False  False  False   True  "
      ]
     },
     "execution_count": 8,
     "metadata": {},
     "output_type": "execute_result"
    }
   ],
   "source": [
    "# 目的：剔除共线性高(>0.6)的变量 \n",
    "# 结果： 剔除变量\"favorite\"\n",
    "\n",
    "# train\n",
    "X_train = X_train.drop(['favorite'], axis=1)\n",
    "# test \n",
    "X_test = X_test.drop(['favorite'], axis=1)\n",
    "abs(X_train.corr()) > 0.6"
   ]
  },
  {
   "cell_type": "markdown",
   "metadata": {},
   "source": [
    "#### 2、chi-test statistics 计算自变量重要性"
   ]
  },
  {
   "cell_type": "code",
   "execution_count": 9,
   "metadata": {
    "collapsed": false
   },
   "outputs": [],
   "source": [
    "# get dummies \n",
    "train_userid = X_train.loc[:, 'userid']\n",
    "test_userid = X_test.loc[:, 'userid']\n",
    "X_train_dummies = pd.get_dummies(X_train.drop(['userid', 'date'], axis=1))\n",
    "X_test_dummies = pd.get_dummies(X_test.drop(['userid', 'date'], axis=1))"
   ]
  },
  {
   "cell_type": "code",
   "execution_count": 10,
   "metadata": {
    "collapsed": false
   },
   "outputs": [],
   "source": [
    "# 目的：筛选重要特征\n",
    "# 方法：chi test \n",
    "# 筛选标准：p > 0.05 且 scores 比较大\n",
    "# 结果：X_train_dummies, X_test_dummies, 文章集合页，3列被剔除\n",
    "\n",
    "from sklearn.feature_selection import chi2\n",
    "from sklearn.feature_selection import SelectKBest\n",
    "K_test = SelectKBest(chi2, k=20).fit(X_train_dummies, y_train)\n",
    "\n",
    "chi_features = zip(X_train_dummies.columns, K_test.pvalues_, K_test.scores_)\n",
    "chi_features_sort = sorted(chi_features, key=lambda x: x[1], reverse=False)\n",
    "chi_features_sort\n",
    "\n",
    "# 由于pvalues < 0.05, 而且scores相对而言不大，因此拒绝city_first & fromchannel_op_channel\n",
    "# train\n",
    "X_train_dummies = X_train_dummies.drop(['city_first', 'fromchannel_op_channel'], axis=1)\n",
    "# test \n",
    "X_test_dummies = X_test_dummies.drop(['city_first', 'fromchannel_op_channel'], axis=1)"
   ]
  },
  {
   "cell_type": "code",
   "execution_count": 11,
   "metadata": {
    "collapsed": false
   },
   "outputs": [
    {
     "data": {
      "text/plain": [
       "[('sub', 0.0, 2631.8393366369392),\n",
       " ('today_read', 0.0, 8006.8564244462423),\n",
       " ('purchase', 0.0, 4021.2840732496716),\n",
       " ('share', 0.0, 1427.1573873165648),\n",
       " ('read', 0.0, 79921.499239680357),\n",
       " ('path1', 0.0, 34058.530667053798),\n",
       " ('os_Android', 1.1121256872791445e-95, 430.75687833769928),\n",
       " ('os_iOS', 1.5485315206023006e-92, 416.31324671815662),\n",
       " ('fromchannel_iOS_plat', 2.426120006884302e-82, 369.48230630599829),\n",
       " ('path2', 1.2713859650825601e-71, 320.25995532782883),\n",
       " ('fromchannel_goodchannel', 9.3133794216507493e-70, 311.69902245664389),\n",
       " ('SignIn', 1.9045833890578993e-64, 287.32327339599931),\n",
       " ('completed_info', 2.4535927485851091e-63, 282.22928770255544),\n",
       " ('coin', 4.9256547888980642e-29, 125.06492131591372),\n",
       " ('unsub', 5.9204974021892536e-27, 115.5643964198149),\n",
       " ('lucky_money', 1.1500840898350064e-23, 100.55751428489516),\n",
       " ('fromchannel_badchannel', 2.7825157705862943e-20, 85.137998214365425),\n",
       " ('city_second', 2.025448028077848e-08, 31.470007197375171),\n",
       " ('gender_male', 0.00019102870059479901, 13.917333087557214),\n",
       " ('weekend', 0.00020741218303435829, 13.762714368857017),\n",
       " ('city_others', 0.00066150632875073819, 11.594402263234235),\n",
       " ('default_buyer', 0.0007683343649427522, 11.316208552204216),\n",
       " ('status_student', 0.00087733199444617674, 11.070052473397036),\n",
       " ('status_worker', 0.0011383386956631352, 10.587840413814231),\n",
       " ('gender_female', 0.0058136948825777291, 7.607160914348805),\n",
       " ('city_first', 0.32436464790915687, 0.97126598835121614),\n",
       " ('fromchannel_op_channel', 0.87314268978366782, 0.025493837781647308)]"
      ]
     },
     "execution_count": 11,
     "metadata": {},
     "output_type": "execute_result"
    }
   ],
   "source": [
    "chi_features_sort"
   ]
  },
  {
   "cell_type": "markdown",
   "metadata": {},
   "source": [
    "#### 3、决策树筛选特征"
   ]
  },
  {
   "cell_type": "code",
   "execution_count": 12,
   "metadata": {
    "collapsed": false
   },
   "outputs": [],
   "source": [
    "# 目的：筛选重要特征\n",
    "# 方法：决策树\n",
    "# 筛选标准：scores明显小于其他列剔除\n",
    "# 结果：\n",
    "\n",
    "# scale \n",
    "# 归一化\n",
    "scaler = MinMaxScaler()\n",
    "scaler.fit(X_train_dummies)\n",
    "X_train_scaler = scaler.transform(X_train_dummies)\n",
    "X_test_scaler = scaler.transform(X_test_dummies)\n",
    "\n",
    "# output \n",
    "# X_train_scaler, X_test_scaler, y_train, y_test, model_columns\n",
    "\n",
    "# input\n",
    "# X_train_scaler, y_train\n",
    "# train\n",
    "from sklearn.ensemble import ExtraTreesClassifier\n",
    "from sklearn.feature_selection import SelectFromModel\n",
    "X, y = X_train_scaler, y_train\n",
    "\n",
    "clf_fea = ExtraTreesClassifier()\n",
    "clf_fea.fit(X, y)\n",
    "\n",
    "# output\n",
    "# clf_fea\n",
    "model_columns = X_train_dummies.columns\n",
    "clf_features = zip(model_columns, clf_fea.feature_importances_)\n",
    "clf_features_sort = sorted(clf_features, key=lambda x: x[1], reverse=True)\n",
    "clf_features_sort\n",
    "\n",
    "# X_train_dummies\n",
    "dropped_elements = ['fromchannel_iOS_plat', 'fromchannel_badchannel', 'completed_info', 'os_Android', 'default_buyer']\n",
    "X_train_dummies = X_train_dummies.drop(dropped_elements, axis=1)\n",
    "# X_test_scaler \n",
    "X_test_dummies = X_test_dummies.drop(dropped_elements, axis=1)"
   ]
  },
  {
   "cell_type": "code",
   "execution_count": 38,
   "metadata": {
    "collapsed": false
   },
   "outputs": [],
   "source": [
    "X_trian_copy = X_train_dummies.copy()\n",
    "X_test_copy = X_test_dummies.copy()"
   ]
  },
  {
   "cell_type": "code",
   "execution_count": 11,
   "metadata": {
    "collapsed": false
   },
   "outputs": [
    {
     "data": {
      "text/plain": [
       "(46800, 13)"
      ]
     },
     "execution_count": 11,
     "metadata": {},
     "output_type": "execute_result"
    }
   ],
   "source": [
    "X_train_dummies.loc[:, X_train_dummies.dtypes != 'uint8'].shape"
   ]
  },
  {
   "cell_type": "code",
   "execution_count": 13,
   "metadata": {
    "collapsed": true
   },
   "outputs": [],
   "source": [
    "# clustering\n",
    "# step1: normalize and scaler\n",
    "# 归一化\n",
    "scaler = MinMaxScaler()\n",
    "scaler.fit(X_train_dummies.loc[:, X_train_dummies.dtypes != 'uint8'])\n",
    "X_train_cluster = scaler.transform(X_train_dummies.loc[:, X_train_dummies.dtypes != 'uint8'])\n",
    "X_test_cluster = scaler.transform(X_test_dummies.loc[:, X_test_dummies.dtypes != 'uint8'])"
   ]
  },
  {
   "cell_type": "code",
   "execution_count": 14,
   "metadata": {
    "collapsed": false
   },
   "outputs": [
    {
     "name": "stdout",
     "output_type": "stream",
     "text": [
      "[ 0.30492759  0.29146112  0.17825719]\n"
     ]
    }
   ],
   "source": [
    "# step2: PCA\n",
    "from sklearn.decomposition import PCA\n",
    "def pca_transform(X_train_cluster):\n",
    "    pca = PCA(n_components=3)\n",
    "    pca.fit(X_train_cluster)\n",
    "    kmeans_pca = pca.transform(X_train_cluster)\n",
    "    print(pca.explained_variance_ratio_)\n",
    "    return kmeans_pca\n",
    "pca_trans = pca_transform(X_train_cluster)"
   ]
  },
  {
   "cell_type": "code",
   "execution_count": null,
   "metadata": {
    "collapsed": false
   },
   "outputs": [],
   "source": [
    "# step3: find the best k for kmeans\n",
    "def kmeans_content(X_train_cluster):\n",
    "    from sklearn.cluster import KMeans\n",
    "    import seaborn as sns\n",
    "    import pandas as pd\n",
    "    # clustering\n",
    "    m = range(10)\n",
    "    scores = []\n",
    "    for i in m:\n",
    "        kmeans = KMeans(n_clusters=i+2, random_state=0, n_init=10, max_iter=100, n_jobs=2).fit(X_train_cluster)\n",
    "        scores.append(kmeans.score(X_train_cluster))\n",
    "    # visual\n",
    "    #plt_data = pd.DataFrame(np.column_stack((np.add(m,2), scores)), columns=['cluster_size', 'loss'])\n",
    "    #g = sns.lmplot(x='cluster_size', y='loss', data=plt_data)\n",
    "    #g.set_axis_labels(\"number of clusters\", \"loss\")\n",
    "    return scores\n",
    "scores = kmeans_content(X_train_cluster)\n",
    "\n",
    "# output \n",
    "# best k is 5 "
   ]
  },
  {
   "cell_type": "code",
   "execution_count": 15,
   "metadata": {
    "collapsed": false
   },
   "outputs": [],
   "source": [
    "# step4: get best kmeans result and visual the result\n",
    "# take optimal\n",
    "def kmeans_content(X_train_cluster):\n",
    "    from sklearn.cluster import KMeans\n",
    "    # clustering\n",
    "    kmeans = KMeans(n_clusters=4, random_state=8, n_init=500, max_iter=1000).fit(X_train_cluster)\n",
    "    return kmeans\n",
    "kmeans = kmeans_content(X_train_cluster)\n",
    "# output -> kmeans.labels_"
   ]
  },
  {
   "cell_type": "code",
   "execution_count": 49,
   "metadata": {
    "collapsed": false
   },
   "outputs": [
    {
     "name": "stderr",
     "output_type": "stream",
     "text": [
      "/usr/local/lib/python2.7/site-packages/ipykernel/__main__.py:10: FutureWarning: comparison to `None` will result in an elementwise object comparison in the future.\n"
     ]
    },
    {
     "data": {
      "image/png": "[encoded data removed]",
      "text/plain": [
       "<matplotlib.figure.Figure at 0x10feea2d0>"
      ]
     },
     "metadata": {},
     "output_type": "display_data"
    }
   ],
   "source": [
    "labels = kmeans.labels_\n",
    "def see_3D(pca_trans, labels):\n",
    "    import numpy as np\n",
    "    import matplotlib.pyplot as plt\n",
    "    #Though the following import is not directly being used, it is required\n",
    "    # for 3D projection to work\n",
    "    from mpl_toolkits.mplot3d import Axes3D\n",
    "    fig = plt.figure(1)\n",
    "    ax = Axes3D(fig, elev=48, azim=134)\n",
    "    if labels != None:\n",
    "        len_labels = len(np.unique(labels))\n",
    "        for label in range(len_labels):\n",
    "            ax.text3D(pca_trans[labels == label, 0].mean(),\n",
    "                  pca_trans[labels == label, 1].mean(),\n",
    "                  pca_trans[labels == label, 2].mean(), label,\n",
    "              horizontalalignment='center',\n",
    "              bbox=dict(alpha=.2, edgecolor='w', facecolor='w'))\n",
    "        # colormap choices 'viridis', 'plasma','inferno', 'magma'\n",
    "        color_names = [\"r\", \"g\", \"b\", \"peachpuff\", \"fuchsia\",\"orange\", \"cyan\",\"darkorchid\",\"gold\", \"yellow\",\"c\",\"purple\",\"pink\" ]\n",
    "        \n",
    "        # set labels to colors\n",
    "        labels_to_colors = [color_names[i] for i in labels]\n",
    "        ax.scatter3D(pca_trans[:, 0], pca_trans[:, 1], pca_trans[:, 2], c=labels_to_colors)\n",
    "    else:\n",
    "        ax.scatter3D(pca_trans[:, 0], pca_trans[:, 1], pca_trans[:, 2])\n",
    "    fig.show()\n",
    "    plt.savefig('output/fig.png')\n",
    "# kmeans\n",
    "see_3D(pca_trans, kmeans.labels_)\n",
    "# AC_clustering\n",
    "##see_3D(pca_trans, AC_final.labels_)"
   ]
  },
  {
   "cell_type": "code",
   "execution_count": 16,
   "metadata": {
    "collapsed": false
   },
   "outputs": [],
   "source": [
    "# add new y labels \n",
    "X_train_dummies['kmeans_labels'] = kmeans.labels_\n",
    "X_test_dummies['kmeans_labels'] = kmeans.predict(X_test_cluster)"
   ]
  },
  {
   "cell_type": "code",
   "execution_count": 17,
   "metadata": {
    "collapsed": false
   },
   "outputs": [
    {
     "data": {
      "text/html": [
       "<div>\n",
       "<table border=\"1\" class=\"dataframe\">\n",
       "  <thead>\n",
       "    <tr style=\"text-align: right;\">\n",
       "      <th></th>\n",
       "      <th>sub</th>\n",
       "      <th>today_read</th>\n",
       "      <th>purchase</th>\n",
       "      <th>share</th>\n",
       "      <th>read</th>\n",
       "    </tr>\n",
       "    <tr>\n",
       "      <th>kmeans_labels</th>\n",
       "      <th></th>\n",
       "      <th></th>\n",
       "      <th></th>\n",
       "      <th></th>\n",
       "      <th></th>\n",
       "    </tr>\n",
       "  </thead>\n",
       "  <tbody>\n",
       "    <tr>\n",
       "      <th>0</th>\n",
       "      <td>0.379291</td>\n",
       "      <td>5.364949</td>\n",
       "      <td>0.109466</td>\n",
       "      <td>0.108541</td>\n",
       "      <td>11.224021</td>\n",
       "    </tr>\n",
       "    <tr>\n",
       "      <th>1</th>\n",
       "      <td>0.346880</td>\n",
       "      <td>5.015995</td>\n",
       "      <td>0.103897</td>\n",
       "      <td>0.098265</td>\n",
       "      <td>10.097544</td>\n",
       "    </tr>\n",
       "    <tr>\n",
       "      <th>2</th>\n",
       "      <td>0.985501</td>\n",
       "      <td>5.872779</td>\n",
       "      <td>0.302409</td>\n",
       "      <td>0.310149</td>\n",
       "      <td>18.179767</td>\n",
       "    </tr>\n",
       "    <tr>\n",
       "      <th>3</th>\n",
       "      <td>1.024649</td>\n",
       "      <td>6.163027</td>\n",
       "      <td>0.292324</td>\n",
       "      <td>0.288000</td>\n",
       "      <td>20.033730</td>\n",
       "    </tr>\n",
       "  </tbody>\n",
       "</table>\n",
       "</div>"
      ],
      "text/plain": [
       "                    sub  today_read  purchase     share       read\n",
       "kmeans_labels                                                     \n",
       "0              0.379291    5.364949  0.109466  0.108541  11.224021\n",
       "1              0.346880    5.015995  0.103897  0.098265  10.097544\n",
       "2              0.985501    5.872779  0.302409  0.310149  18.179767\n",
       "3              1.024649    6.163027  0.292324  0.288000  20.033730"
      ]
     },
     "execution_count": 17,
     "metadata": {},
     "output_type": "execute_result"
    }
   ],
   "source": [
    "X_train_dummies.loc[:, X_train_dummies.dtypes != 'uint8'].drop(['path2'], axis=1).loc[:, ['sub', 'today_read', 'purchase', 'share', 'read', 'kmeans_labels']].groupby('kmeans_labels').mean()"
   ]
  },
  {
   "cell_type": "code",
   "execution_count": 23,
   "metadata": {
    "collapsed": false
   },
   "outputs": [
    {
     "data": {
      "text/html": [
       "<div>\n",
       "<table border=\"1\" class=\"dataframe\">\n",
       "  <thead>\n",
       "    <tr style=\"text-align: right;\">\n",
       "      <th></th>\n",
       "      <th>SignIn</th>\n",
       "      <th>weekend</th>\n",
       "      <th>coin</th>\n",
       "      <th>lucky_money</th>\n",
       "      <th>unsub</th>\n",
       "      <th>sub</th>\n",
       "      <th>today_read</th>\n",
       "      <th>purchase</th>\n",
       "      <th>share</th>\n",
       "      <th>read</th>\n",
       "      <th>...</th>\n",
       "      <th>path2</th>\n",
       "      <th>os_iOS</th>\n",
       "      <th>city_others</th>\n",
       "      <th>city_second</th>\n",
       "      <th>gender_female</th>\n",
       "      <th>gender_male</th>\n",
       "      <th>status_student</th>\n",
       "      <th>status_worker</th>\n",
       "      <th>fromchannel_goodchannel</th>\n",
       "      <th>kmeans_labels</th>\n",
       "    </tr>\n",
       "  </thead>\n",
       "  <tbody>\n",
       "    <tr>\n",
       "      <th>count</th>\n",
       "      <td>4625.0</td>\n",
       "      <td>4625.0</td>\n",
       "      <td>4625.000000</td>\n",
       "      <td>4625.000000</td>\n",
       "      <td>4625.000000</td>\n",
       "      <td>4625.000000</td>\n",
       "      <td>4625.000000</td>\n",
       "      <td>4625.000000</td>\n",
       "      <td>4625.000000</td>\n",
       "      <td>4625.000000</td>\n",
       "      <td>...</td>\n",
       "      <td>4625.000000</td>\n",
       "      <td>4625.00000</td>\n",
       "      <td>4625.000000</td>\n",
       "      <td>4625.000000</td>\n",
       "      <td>4625.000000</td>\n",
       "      <td>4625.000000</td>\n",
       "      <td>4625.000000</td>\n",
       "      <td>4625.000000</td>\n",
       "      <td>4625.000000</td>\n",
       "      <td>4625.0</td>\n",
       "    </tr>\n",
       "    <tr>\n",
       "      <th>mean</th>\n",
       "      <td>1.0</td>\n",
       "      <td>1.0</td>\n",
       "      <td>0.060541</td>\n",
       "      <td>0.130162</td>\n",
       "      <td>0.500324</td>\n",
       "      <td>1.024649</td>\n",
       "      <td>6.163027</td>\n",
       "      <td>0.292324</td>\n",
       "      <td>0.288000</td>\n",
       "      <td>20.033730</td>\n",
       "      <td>...</td>\n",
       "      <td>0.053189</td>\n",
       "      <td>0.38400</td>\n",
       "      <td>0.370595</td>\n",
       "      <td>0.215568</td>\n",
       "      <td>0.660108</td>\n",
       "      <td>0.339892</td>\n",
       "      <td>0.600000</td>\n",
       "      <td>0.400000</td>\n",
       "      <td>0.483459</td>\n",
       "      <td>3.0</td>\n",
       "    </tr>\n",
       "    <tr>\n",
       "      <th>std</th>\n",
       "      <td>0.0</td>\n",
       "      <td>0.0</td>\n",
       "      <td>0.238511</td>\n",
       "      <td>0.336518</td>\n",
       "      <td>2.062929</td>\n",
       "      <td>3.056602</td>\n",
       "      <td>5.214248</td>\n",
       "      <td>0.621970</td>\n",
       "      <td>0.981047</td>\n",
       "      <td>26.017897</td>\n",
       "      <td>...</td>\n",
       "      <td>0.260138</td>\n",
       "      <td>0.48641</td>\n",
       "      <td>0.483016</td>\n",
       "      <td>0.411260</td>\n",
       "      <td>0.473723</td>\n",
       "      <td>0.473723</td>\n",
       "      <td>0.489951</td>\n",
       "      <td>0.489951</td>\n",
       "      <td>0.499780</td>\n",
       "      <td>0.0</td>\n",
       "    </tr>\n",
       "    <tr>\n",
       "      <th>min</th>\n",
       "      <td>1.0</td>\n",
       "      <td>1.0</td>\n",
       "      <td>0.000000</td>\n",
       "      <td>0.000000</td>\n",
       "      <td>0.000000</td>\n",
       "      <td>0.000000</td>\n",
       "      <td>0.000000</td>\n",
       "      <td>0.000000</td>\n",
       "      <td>0.000000</td>\n",
       "      <td>0.000000</td>\n",
       "      <td>...</td>\n",
       "      <td>0.000000</td>\n",
       "      <td>0.00000</td>\n",
       "      <td>0.000000</td>\n",
       "      <td>0.000000</td>\n",
       "      <td>0.000000</td>\n",
       "      <td>0.000000</td>\n",
       "      <td>0.000000</td>\n",
       "      <td>0.000000</td>\n",
       "      <td>0.000000</td>\n",
       "      <td>3.0</td>\n",
       "    </tr>\n",
       "    <tr>\n",
       "      <th>25%</th>\n",
       "      <td>1.0</td>\n",
       "      <td>1.0</td>\n",
       "      <td>0.000000</td>\n",
       "      <td>0.000000</td>\n",
       "      <td>0.000000</td>\n",
       "      <td>0.000000</td>\n",
       "      <td>1.000000</td>\n",
       "      <td>0.000000</td>\n",
       "      <td>0.000000</td>\n",
       "      <td>2.000000</td>\n",
       "      <td>...</td>\n",
       "      <td>0.000000</td>\n",
       "      <td>0.00000</td>\n",
       "      <td>0.000000</td>\n",
       "      <td>0.000000</td>\n",
       "      <td>0.000000</td>\n",
       "      <td>0.000000</td>\n",
       "      <td>0.000000</td>\n",
       "      <td>0.000000</td>\n",
       "      <td>0.000000</td>\n",
       "      <td>3.0</td>\n",
       "    </tr>\n",
       "    <tr>\n",
       "      <th>50%</th>\n",
       "      <td>1.0</td>\n",
       "      <td>1.0</td>\n",
       "      <td>0.000000</td>\n",
       "      <td>0.000000</td>\n",
       "      <td>0.000000</td>\n",
       "      <td>0.000000</td>\n",
       "      <td>5.000000</td>\n",
       "      <td>0.000000</td>\n",
       "      <td>0.000000</td>\n",
       "      <td>9.000000</td>\n",
       "      <td>...</td>\n",
       "      <td>0.000000</td>\n",
       "      <td>0.00000</td>\n",
       "      <td>0.000000</td>\n",
       "      <td>0.000000</td>\n",
       "      <td>1.000000</td>\n",
       "      <td>0.000000</td>\n",
       "      <td>1.000000</td>\n",
       "      <td>0.000000</td>\n",
       "      <td>0.000000</td>\n",
       "      <td>3.0</td>\n",
       "    </tr>\n",
       "    <tr>\n",
       "      <th>75%</th>\n",
       "      <td>1.0</td>\n",
       "      <td>1.0</td>\n",
       "      <td>0.000000</td>\n",
       "      <td>0.000000</td>\n",
       "      <td>0.000000</td>\n",
       "      <td>1.000000</td>\n",
       "      <td>11.000000</td>\n",
       "      <td>0.000000</td>\n",
       "      <td>0.000000</td>\n",
       "      <td>28.000000</td>\n",
       "      <td>...</td>\n",
       "      <td>0.000000</td>\n",
       "      <td>1.00000</td>\n",
       "      <td>1.000000</td>\n",
       "      <td>0.000000</td>\n",
       "      <td>1.000000</td>\n",
       "      <td>1.000000</td>\n",
       "      <td>1.000000</td>\n",
       "      <td>1.000000</td>\n",
       "      <td>1.000000</td>\n",
       "      <td>3.0</td>\n",
       "    </tr>\n",
       "    <tr>\n",
       "      <th>max</th>\n",
       "      <td>1.0</td>\n",
       "      <td>1.0</td>\n",
       "      <td>1.000000</td>\n",
       "      <td>1.000000</td>\n",
       "      <td>15.000000</td>\n",
       "      <td>55.000000</td>\n",
       "      <td>15.000000</td>\n",
       "      <td>6.000000</td>\n",
       "      <td>13.000000</td>\n",
       "      <td>126.000000</td>\n",
       "      <td>...</td>\n",
       "      <td>3.000000</td>\n",
       "      <td>1.00000</td>\n",
       "      <td>1.000000</td>\n",
       "      <td>1.000000</td>\n",
       "      <td>1.000000</td>\n",
       "      <td>1.000000</td>\n",
       "      <td>1.000000</td>\n",
       "      <td>1.000000</td>\n",
       "      <td>1.000000</td>\n",
       "      <td>3.0</td>\n",
       "    </tr>\n",
       "  </tbody>\n",
       "</table>\n",
       "<p>8 rows × 21 columns</p>\n",
       "</div>"
      ],
      "text/plain": [
       "       SignIn  weekend         coin  lucky_money        unsub          sub  \\\n",
       "count  4625.0   4625.0  4625.000000  4625.000000  4625.000000  4625.000000   \n",
       "mean      1.0      1.0     0.060541     0.130162     0.500324     1.024649   \n",
       "std       0.0      0.0     0.238511     0.336518     2.062929     3.056602   \n",
       "min       1.0      1.0     0.000000     0.000000     0.000000     0.000000   \n",
       "25%       1.0      1.0     0.000000     0.000000     0.000000     0.000000   \n",
       "50%       1.0      1.0     0.000000     0.000000     0.000000     0.000000   \n",
       "75%       1.0      1.0     0.000000     0.000000     0.000000     1.000000   \n",
       "max       1.0      1.0     1.000000     1.000000    15.000000    55.000000   \n",
       "\n",
       "        today_read     purchase        share         read      ...        \\\n",
       "count  4625.000000  4625.000000  4625.000000  4625.000000      ...         \n",
       "mean      6.163027     0.292324     0.288000    20.033730      ...         \n",
       "std       5.214248     0.621970     0.981047    26.017897      ...         \n",
       "min       0.000000     0.000000     0.000000     0.000000      ...         \n",
       "25%       1.000000     0.000000     0.000000     2.000000      ...         \n",
       "50%       5.000000     0.000000     0.000000     9.000000      ...         \n",
       "75%      11.000000     0.000000     0.000000    28.000000      ...         \n",
       "max      15.000000     6.000000    13.000000   126.000000      ...         \n",
       "\n",
       "             path2      os_iOS  city_others  city_second  gender_female  \\\n",
       "count  4625.000000  4625.00000  4625.000000  4625.000000    4625.000000   \n",
       "mean      0.053189     0.38400     0.370595     0.215568       0.660108   \n",
       "std       0.260138     0.48641     0.483016     0.411260       0.473723   \n",
       "min       0.000000     0.00000     0.000000     0.000000       0.000000   \n",
       "25%       0.000000     0.00000     0.000000     0.000000       0.000000   \n",
       "50%       0.000000     0.00000     0.000000     0.000000       1.000000   \n",
       "75%       0.000000     1.00000     1.000000     0.000000       1.000000   \n",
       "max       3.000000     1.00000     1.000000     1.000000       1.000000   \n",
       "\n",
       "       gender_male  status_student  status_worker  fromchannel_goodchannel  \\\n",
       "count  4625.000000     4625.000000    4625.000000              4625.000000   \n",
       "mean      0.339892        0.600000       0.400000                 0.483459   \n",
       "std       0.473723        0.489951       0.489951                 0.499780   \n",
       "min       0.000000        0.000000       0.000000                 0.000000   \n",
       "25%       0.000000        0.000000       0.000000                 0.000000   \n",
       "50%       0.000000        1.000000       0.000000                 0.000000   \n",
       "75%       1.000000        1.000000       1.000000                 1.000000   \n",
       "max       1.000000        1.000000       1.000000                 1.000000   \n",
       "\n",
       "       kmeans_labels  \n",
       "count         4625.0  \n",
       "mean             3.0  \n",
       "std              0.0  \n",
       "min              3.0  \n",
       "25%              3.0  \n",
       "50%              3.0  \n",
       "75%              3.0  \n",
       "max              3.0  \n",
       "\n",
       "[8 rows x 21 columns]"
      ]
     },
     "execution_count": 23,
     "metadata": {},
     "output_type": "execute_result"
    }
   ],
   "source": [
    "X_train_dummies.loc[X_train_dummies.loc[:, 'kmeans_labels'] == 3].describe()"
   ]
  },
  {
   "cell_type": "code",
   "execution_count": 53,
   "metadata": {
    "collapsed": false
   },
   "outputs": [
    {
     "data": {
      "text/plain": [
       "array([[ 0.        ,  1.00042713,  1.41845041,  1.00824653],\n",
       "       [ 1.00042713,  0.        ,  1.00766907,  1.42187003],\n",
       "       [ 1.41845041,  1.00766907,  0.        ,  1.000513  ],\n",
       "       [ 1.00824653,  1.42187003,  1.000513  ,  0.        ]])"
      ]
     },
     "execution_count": 53,
     "metadata": {},
     "output_type": "execute_result"
    }
   ],
   "source": [
    "from sklearn.metrics import euclidean_distances\n",
    "euclidean_distances(kmeans.cluster_centers_)\n",
    "# 0-1相似\n",
    "# 2-3相似"
   ]
  },
  {
   "cell_type": "code",
   "execution_count": 58,
   "metadata": {
    "collapsed": true
   },
   "outputs": [],
   "source": [
    "X_train_dummies['y'] = y_train"
   ]
  },
  {
   "cell_type": "code",
   "execution_count": 62,
   "metadata": {
    "collapsed": false
   },
   "outputs": [
    {
     "data": {
      "text/html": [
       "<div>\n",
       "<table border=\"1\" class=\"dataframe\">\n",
       "  <thead>\n",
       "    <tr style=\"text-align: right;\">\n",
       "      <th>y</th>\n",
       "      <th>0</th>\n",
       "      <th>1</th>\n",
       "      <th>retained_rate</th>\n",
       "    </tr>\n",
       "    <tr>\n",
       "      <th>kmeans_labels</th>\n",
       "      <th></th>\n",
       "      <th></th>\n",
       "      <th></th>\n",
       "    </tr>\n",
       "  </thead>\n",
       "  <tbody>\n",
       "    <tr>\n",
       "      <th>0</th>\n",
       "      <td>8505</td>\n",
       "      <td>2302</td>\n",
       "      <td>0.213010</td>\n",
       "    </tr>\n",
       "    <tr>\n",
       "      <th>1</th>\n",
       "      <td>17076</td>\n",
       "      <td>5119</td>\n",
       "      <td>0.230638</td>\n",
       "    </tr>\n",
       "    <tr>\n",
       "      <th>2</th>\n",
       "      <td>6218</td>\n",
       "      <td>2955</td>\n",
       "      <td>0.322141</td>\n",
       "    </tr>\n",
       "    <tr>\n",
       "      <th>3</th>\n",
       "      <td>3253</td>\n",
       "      <td>1372</td>\n",
       "      <td>0.296649</td>\n",
       "    </tr>\n",
       "  </tbody>\n",
       "</table>\n",
       "</div>"
      ],
      "text/plain": [
       "y                  0     1  retained_rate\n",
       "kmeans_labels                            \n",
       "0               8505  2302       0.213010\n",
       "1              17076  5119       0.230638\n",
       "2               6218  2955       0.322141\n",
       "3               3253  1372       0.296649"
      ]
     },
     "execution_count": 62,
     "metadata": {},
     "output_type": "execute_result"
    }
   ],
   "source": [
    "new_retained = X_train_dummies[['kmeans_labels', 'y']].groupby(['kmeans_labels', 'y']).size().unstack(fill_value=0)\n",
    "new_retained['retained_rate'] = new_retained.loc[:, 1] / (new_retained.loc[:, 0] + new_retained.loc[:, 1])\n",
    "new_retained"
   ]
  },
  {
   "cell_type": "code",
   "execution_count": 65,
   "metadata": {
    "collapsed": false
   },
   "outputs": [
    {
     "data": {
      "text/plain": [
       "0.251025641025641"
      ]
     },
     "execution_count": 65,
     "metadata": {},
     "output_type": "execute_result"
    }
   ],
   "source": [
    "float(new_retained.loc[:, 1].sum())/(new_retained.loc[:, 0].sum() + new_retained.loc[:, 1].sum())"
   ]
  },
  {
   "cell_type": "code",
   "execution_count": 26,
   "metadata": {
    "collapsed": false
   },
   "outputs": [],
   "source": [
    "# add new columns\n",
    "X_train_dummies[['kmeans_0', 'kmeans_1','kmeans_2','kmeans_3']] = pd.get_dummies(X_train_dummies.loc[:, 'kmeans_labels'], prefix='labels_')\n",
    "X_test_dummies[['kmeans_0', 'kmeans_1','kmeans_2','kmeans_3']] = pd.get_dummies(X_test_dummies.loc[:, 'kmeans_labels'], prefix='labels_')"
   ]
  },
  {
   "cell_type": "code",
   "execution_count": 27,
   "metadata": {
    "collapsed": true
   },
   "outputs": [],
   "source": [
    "# drop kmeans_labels\n",
    "X_train_dummies = X_train_dummies.drop('kmeans_labels', axis=1)\n",
    "X_test_dummies = X_test_dummies.drop('kmeans_labels', axis=1)"
   ]
  },
  {
   "cell_type": "markdown",
   "metadata": {},
   "source": [
    "### 6、归一化处理"
   ]
  },
  {
   "cell_type": "code",
   "execution_count": 28,
   "metadata": {
    "collapsed": false
   },
   "outputs": [
    {
     "data": {
      "text/plain": [
       "['output/scaler.save']"
      ]
     },
     "execution_count": 28,
     "metadata": {},
     "output_type": "execute_result"
    }
   ],
   "source": [
    "# 归一化\n",
    "# input \n",
    "# X_train_dummies, X_test_dummies, y_train, y_test\n",
    "\n",
    "# scale \n",
    "# 归一化\n",
    "scaler = MinMaxScaler()\n",
    "scaler.fit(X_train_dummies)\n",
    "X_train_scaler = scaler.transform(X_train_dummies)\n",
    "X_test_scaler = scaler.transform(X_test_dummies)\n",
    "\n",
    "# save columns \n",
    "model_columns = X_train_dummies.columns\n",
    "np.savetxt('output/model_columns', model_columns, fmt='%s')\n",
    "# save scaler \n",
    "scaler_filename = \"output/scaler.save\"\n",
    "joblib.dump(scaler, scaler_filename) \n",
    "\n",
    "# output \n",
    "# X_train_scaler, X_test_scaler, y_train, y_test, model_columns, scaler"
   ]
  },
  {
   "cell_type": "markdown",
   "metadata": {},
   "source": [
    "### 8、训练模型"
   ]
  },
  {
   "cell_type": "code",
   "execution_count": 62,
   "metadata": {
    "collapsed": false
   },
   "outputs": [
    {
     "name": "stdout",
     "output_type": "stream",
     "text": [
      "[0 1]\n",
      "best estimator_rf\n",
      "GradientBoostingClassifier(criterion='friedman_mse', init=None,\n",
      "              learning_rate=0.2, loss='deviance', max_depth=2,\n",
      "              max_features=None, max_leaf_nodes=None,\n",
      "              min_impurity_split=1e-07, min_samples_leaf=4,\n",
      "              min_samples_split=36, min_weight_fraction_leaf=0.0,\n",
      "              n_estimators=150, presort='auto', random_state=None,\n",
      "              subsample=0.7, verbose=0, warm_start=False)\n",
      "{}\n",
      "\n",
      "\n",
      "             precision    recall  f1-score   support\n",
      "\n",
      "          0       0.79      0.96      0.87     35052\n",
      "          1       0.66      0.22      0.33     11748\n",
      "\n",
      "avg / total       0.75      0.78      0.73     46800\n",
      "\n",
      "             precision    recall  f1-score   support\n",
      "\n",
      "          0       0.79      0.96      0.87     15059\n",
      "          1       0.66      0.22      0.32      4999\n",
      "\n",
      "avg / total       0.75      0.78      0.73     20058\n",
      "\n"
     ]
    }
   ],
   "source": [
    "# input: X_train_f, X_test_f, y_train_f, y_test_f\n",
    "# outputs: top5 favorited buyers for each user, and sorted by pred_score\n",
    "# after that: for rest of buyers, give possible love score\n",
    "from sklearn.ensemble import GradientBoostingClassifier\n",
    "\n",
    "# Train model\n",
    "clf = GradientBoostingClassifier(criterion='friedman_mse', init=None,\n",
    "              learning_rate=0.2, loss='deviance', max_depth=2,\n",
    "              max_features=None, max_leaf_nodes=None,\n",
    "              min_impurity_split=1e-07, min_samples_leaf=4,\n",
    "              min_samples_split=36, min_weight_fraction_leaf=0.0,\n",
    "              n_estimators=150, presort='auto', random_state=None,\n",
    "              subsample=0.7, verbose=0, warm_start=False)\n",
    "\n",
    "# set parameters\n",
    "parameters = dict(\n",
    "    #n_estimators = range(150, 300, 10)\n",
    "    #learning_rate= [0.1, 0.2, 0.3, 0.4, 0.5, 0.6, 0.7, 0.8, 0.9, 1.0]\n",
    "    #max_depth = range(2, 6, 1)\n",
    "    #max_leaf_nodes = range(2, 20, 1), \n",
    "    #min_samples_split = range(2, 50, 2)\n",
    "    #subsample = [0.5, 0.6, 0.7, 0.8]\n",
    ")\n",
    "\n",
    "# set score function\n",
    "def my_custom_scorer(y_true, y_pred):\n",
    "    return f1_score(y_true, y_pred, average='weighted')\n",
    "scoring = make_scorer(my_custom_scorer)\n",
    "# set \n",
    "estimator = GridSearchCV(clf,parameters, n_jobs=-1, scoring=scoring)\n",
    "\n",
    "# train\n",
    "estimator.fit(X_train_scaler, y_train)\n",
    " \n",
    "# predict on test\n",
    "clf_pred_y = estimator.predict(X_test_scaler)\n",
    " \n",
    "# Is our model still predicting just one class?\n",
    "# check\n",
    "print( np.unique( clf_pred_y ) )\n",
    " \n",
    "# How's our accuracy?\n",
    "#print(accuracy_score(y_test, clf_pred_y))\n",
    "# 0.9744\n",
    " \n",
    "# What about AUROC?\n",
    "#prob_y = clf.predict_proba(X_test_scaler)\n",
    "#prob_y = [p[1] for p in prob_y]\n",
    "# best params\n",
    "print \"best estimator_rf\\n{}\\n{}\\n\\n\".format(estimator.best_estimator_, estimator.best_params_)\n",
    "\n",
    "# 过拟合\n",
    "print(classification_report(y_train, estimator.predict(X_train_scaler)))\n",
    "print(classification_report(y_test, clf_pred_y))\n",
    "#print (classification_report(y, estimator.predict(np.vstack((X_train_scaler,X_test_scaler))))) # favorite 2, recall is not good"
   ]
  },
  {
   "cell_type": "code",
   "execution_count": 82,
   "metadata": {
    "collapsed": false
   },
   "outputs": [
    {
     "data": {
      "text/plain": [
       "0.71988326984044493"
      ]
     },
     "execution_count": 82,
     "metadata": {},
     "output_type": "execute_result"
    }
   ],
   "source": [
    "estimator.best_score_"
   ]
  },
  {
   "cell_type": "code",
   "execution_count": 80,
   "metadata": {
    "collapsed": false
   },
   "outputs": [
    {
     "name": "stdout",
     "output_type": "stream",
     "text": [
      "训练模型中....\n",
      "训练完成....\n",
      "预测中....\n",
      "best estimator_rf\n",
      "RandomForestClassifier(bootstrap=True, class_weight='balanced',\n",
      "            criterion='gini', max_depth=None, max_features='log2',\n",
      "            max_leaf_nodes=None, min_impurity_split=0.0,\n",
      "            min_samples_leaf=3, min_samples_split=2,\n",
      "            min_weight_fraction_leaf=0.0, n_estimators=130, n_jobs=-1,\n",
      "            oob_score=True, random_state=21, verbose=0, warm_start=False)\n",
      "{'n_estimators': 130}\n",
      "\n",
      "\n",
      "分析报告生成中.....\n",
      "             precision    recall  f1-score   support\n",
      "\n",
      "          0       0.91      0.85      0.88     35052\n",
      "          1       0.64      0.76      0.69     11748\n",
      "\n",
      "avg / total       0.84      0.83      0.83     46800\n",
      "\n",
      "             precision    recall  f1-score   support\n",
      "\n",
      "          0       0.83      0.78      0.80     15059\n",
      "          1       0.43      0.51      0.47      4999\n",
      "\n",
      "avg / total       0.73      0.71      0.72     20058\n",
      "\n",
      "             precision    recall  f1-score   support\n",
      "\n",
      "          0       0.89      0.83      0.86     50111\n",
      "          1       0.57      0.68      0.62     16747\n",
      "\n",
      "avg / total       0.81      0.79      0.80     66858\n",
      "\n"
     ]
    }
   ],
   "source": [
    "# Train model\n",
    "clf = RandomForestClassifier(n_estimators=110, criterion='gini', max_depth=None, min_samples_split=2, min_samples_leaf=3, min_weight_fraction_leaf=0.0, max_features='log2', max_leaf_nodes=None, min_impurity_split=0.0, bootstrap=True, oob_score=True, n_jobs=-1, random_state=21, verbose=0, warm_start=False, class_weight='balanced')\n",
    "\n",
    "# set parameters\n",
    "parameters = dict(\n",
    "n_estimators = range(110, 200, 10)\n",
    "#max_depth = range(1, 6, 1)\n",
    "#min_samples_split = range(2, 30, 2),\n",
    "#min_samples_leaf = range(1, 10, 1)\n",
    "#class_weight = [None]\n",
    ")\n",
    "\n",
    "# set score function\n",
    "scoring = make_scorer(my_custom_scorer)\n",
    "# set \n",
    "estimator = GridSearchCV(clf,parameters, cv = 5, n_jobs=-1, scoring=scoring)\n",
    "\n",
    "# train\n",
    "print \"训练模型中....\"\n",
    "estimator.fit(X_train_scaler, y_train)\n",
    "print \"训练完成....\"\n",
    "\n",
    "print \"预测中....\"\n",
    "# predict on test\n",
    "clf_pred_y = estimator.predict(X_test_scaler)\n",
    " \n",
    "# best params\n",
    "print \"best estimator_rf\\n{}\\n{}\\n\\n\".format(estimator.best_estimator_, estimator.best_params_)\n",
    "\n",
    "# analysis report\n",
    "print \"分析报告生成中.....\"\n",
    "print(classification_report(y_train, estimator.predict(X_train_scaler)))\n",
    "print(classification_report(y_test, clf_pred_y))\n",
    "print (classification_report(np.concatenate((y_train, y_test), axis=0), estimator.predict(np.vstack((X_train_scaler, X_test_scaler))))) # favorite 2, recall is not good"
   ]
  },
  {
   "cell_type": "code",
   "execution_count": 81,
   "metadata": {
    "collapsed": false
   },
   "outputs": [
    {
     "data": {
      "text/plain": [
       "0.71988326984044493"
      ]
     },
     "execution_count": 81,
     "metadata": {},
     "output_type": "execute_result"
    }
   ],
   "source": [
    "estimator.best_score_"
   ]
  },
  {
   "cell_type": "markdown",
   "metadata": {},
   "source": [
    "### 9、保存模型"
   ]
  },
  {
   "cell_type": "code",
   "execution_count": 2,
   "metadata": {
    "collapsed": false
   },
   "outputs": [
    {
     "ename": "NameError",
     "evalue": "name 'estimator' is not defined",
     "output_type": "error",
     "traceback": [
      "\u001b[0;31m---------------------------------------------------------------------------\u001b[0m",
      "\u001b[0;31mNameError\u001b[0m                                 Traceback (most recent call last)",
      "\u001b[0;32m<ipython-input-2-ee07f61e7ada>\u001b[0m in \u001b[0;36m<module>\u001b[0;34m()\u001b[0m\n\u001b[1;32m      1\u001b[0m \u001b[0;31m# 保存模型到output\u001b[0m\u001b[0;34m\u001b[0m\u001b[0;34m\u001b[0m\u001b[0m\n\u001b[0;32m----> 2\u001b[0;31m \u001b[0mjoblib\u001b[0m\u001b[0;34m.\u001b[0m\u001b[0mdump\u001b[0m\u001b[0;34m(\u001b[0m\u001b[0mestimator\u001b[0m\u001b[0;34m,\u001b[0m \u001b[0;34m\"output/train_model.m\"\u001b[0m\u001b[0;34m)\u001b[0m\u001b[0;34m\u001b[0m\u001b[0m\n\u001b[0m",
      "\u001b[0;31mNameError\u001b[0m: name 'estimator' is not defined"
     ]
    }
   ],
   "source": [
    "# 保存模型到output\n",
    "joblib.dump(estimator, \"output/train_model.m\")"
   ]
  },
  {
   "cell_type": "code",
   "execution_count": 21,
   "metadata": {
    "collapsed": false
   },
   "outputs": [
    {
     "name": "stdout",
     "output_type": "stream",
     "text": [
      "             precision    recall  f1-score   support\n",
      "\n",
      "          0       0.84      0.75      0.80     15059\n",
      "          1       0.43      0.57      0.49      4999\n",
      "\n",
      "avg / total       0.74      0.71      0.72     20058\n",
      "\n"
     ]
    }
   ],
   "source": [
    "# 恢复模型并做预测\n",
    "from sklearn.externals import joblib\n",
    "recoverd_model = joblib.load(\"output/train_model.m\")\n",
    "print classification_report(y_test, recoverd_model.predict(X_test_scaler))"
   ]
  }
 ],
 "metadata": {
  "kernelspec": {
   "display_name": "Python 2",
   "language": "python",
   "name": "python2"
  },
  "language_info": {
   "codemirror_mode": {
    "name": "ipython",
    "version": 2
   },
   "file_extension": ".py",
   "mimetype": "text/x-python",
   "name": "python",
   "nbconvert_exporter": "python",
   "pygments_lexer": "ipython2",
   "version": "2.7.13"
  }
 },
 "nbformat": 4,
 "nbformat_minor": 0
}
