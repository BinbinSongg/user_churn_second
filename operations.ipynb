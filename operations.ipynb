{
 "cells": [
  {
   "cell_type": "code",
   "execution_count": 1,
   "metadata": {
    "collapsed": true
   },
   "outputs": [],
   "source": [
    "# encoding solver\n",
    "import sys\n",
    "stdout = sys.stdout\n",
    "# 新版sys, 需要先reload(sys)再进行sys.setdefaultencoding操作\n",
    "reload(sys)\n",
    "sys.setdefaultencoding('utf-8')\n",
    "sys.stdout = stdout"
   ]
  },
  {
   "cell_type": "code",
   "execution_count": null,
   "metadata": {
    "collapsed": true
   },
   "outputs": [],
   "source": [
    "import data_clean as dc \n",
    "reload(dc)\n",
    "dc_dc = dc.data_clean()\n",
    "cleand_X, X_y = dc_dc.quick_correct(X)\n",
    "\n",
    "# kick outlier out\n",
    "# 1. outlier \n",
    "X_y = dc_dc.outlier_deal(X_y)\n",
    "\n",
    "# 3. dummies\n",
    "y_fea = X_y.loc[:, 'y']\n",
    "X_fea = pd.get_dummies(X_y.drop(['y', 'userid', 'full_id'], axis=1))\n",
    "\n",
    "# scale \n",
    "# 归一化\n",
    "scaler = MinMaxScaler()\n",
    "scaler.fit(X_train)\n",
    "X_train_scaler = scaler.transform(X_train)\n",
    "X_test_scaler = scaler.transform(X_test)\n",
    "# assert\n",
    "assert X_test_scaler.max() != 0, ('right')\n",
    "assert X_train_scaler.max() == 1, ('right')\n",
    "print np.shape(X_train)\n",
    "print np.shape(X_test)\n",
    "print np.shape(np.vstack((X_train, X_test)))"
   ]
  }
 ],
 "metadata": {
  "kernelspec": {
   "display_name": "Python 2",
   "language": "python",
   "name": "python2"
  },
  "language_info": {
   "codemirror_mode": {
    "name": "ipython",
    "version": 2
   },
   "file_extension": ".py",
   "mimetype": "text/x-python",
   "name": "python",
   "nbconvert_exporter": "python",
   "pygments_lexer": "ipython2",
   "version": "2.7.13"
  }
 },
 "nbformat": 4,
 "nbformat_minor": 2
}
